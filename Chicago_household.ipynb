{
 "cells": [
  {
   "cell_type": "code",
   "execution_count": 2,
   "id": "8a5724cc",
   "metadata": {},
   "outputs": [
    {
     "name": "stdout",
     "output_type": "stream",
     "text": [
      "Index(['HEINZ', 'HUNTS', 'PRICEHEINZ', 'PRICEHUNTS', 'FeatHeinz', 'FeatHunts',\n",
      "       'DisplHeinz', 'DisplHunts'],\n",
      "      dtype='object')\n"
     ]
    }
   ],
   "source": [
    "# Import necessary libraries\n",
    "import pandas as pd\n",
    "import numpy as np\n",
    "from sklearn.model_selection import train_test_split\n",
    "\n",
    "\n",
    "# Loading th data\n",
    "data = pd.read_sas('/Users/maverick.shivaya/Downloads/HeinzHunts.sas7bdat', format='sas7bdat')\n",
    "\n",
    "# Display the column names\n",
    "print(data.columns)\n"
   ]
  },
  {
   "cell_type": "markdown",
   "id": "23b78c72",
   "metadata": {},
   "source": [
    "## Q1. A, B"
   ]
  },
  {
   "cell_type": "code",
   "execution_count": 3,
   "id": "98b321c0",
   "metadata": {},
   "outputs": [
    {
     "name": "stdout",
     "output_type": "stream",
     "text": [
      "   HEINZ  HUNTS  PRICEHEINZ  PRICEHUNTS  FeatHeinz  FeatHunts  DisplHeinz  \\\n",
      "0    1.0    0.0       0.052       0.034        0.0        0.0         0.0   \n",
      "1    1.0    0.0       0.052       0.044        0.0        0.0         0.0   \n",
      "2    1.0    0.0       0.046       0.048        1.0        0.0         0.0   \n",
      "3    1.0    0.0       0.052       0.034        0.0        0.0         0.0   \n",
      "4    1.0    0.0       0.046       0.048        1.0        0.0         0.0   \n",
      "\n",
      "   DisplHunts  LogPriceRatio  \n",
      "0         0.0       0.424883  \n",
      "1         0.0       0.167054  \n",
      "2         0.0      -0.042560  \n",
      "3         0.0       0.424883  \n",
      "4         0.0      -0.042560  \n"
     ]
    }
   ],
   "source": [
    "# a. Create LogPriceRatio variable\n",
    "data['LogPriceRatio'] = np.log(data['PRICEHEINZ'] / data['PRICEHUNTS'])\n",
    "\n",
    "# b. Split the data into training and test samples\n",
    "# Set a seed for reproducibility\n",
    "train_data, test_data = train_test_split(data, test_size=0.25, random_state=123)\n",
    "\n",
    "# Display the first few rows of the modified dataset\n",
    "print(data.head())"
   ]
  },
  {
   "cell_type": "markdown",
   "id": "64e4feca",
   "metadata": {},
   "source": [
    "## C"
   ]
  },
  {
   "cell_type": "code",
   "execution_count": 4,
   "id": "79005d90",
   "metadata": {},
   "outputs": [
    {
     "name": "stdout",
     "output_type": "stream",
     "text": [
      "Optimization terminated successfully.\n",
      "         Current function value: 0.241449\n",
      "         Iterations 8\n",
      "                           Logit Regression Results                           \n",
      "==============================================================================\n",
      "Dep. Variable:                  HEINZ   No. Observations:                 2798\n",
      "Model:                          Logit   Df Residuals:                     2791\n",
      "Method:                           MLE   Df Model:                            6\n",
      "Date:                Mon, 28 Oct 2024   Pseudo R-squ.:                  0.3020\n",
      "Time:                        23:01:04   Log-Likelihood:                -675.57\n",
      "converged:                       True   LL-Null:                       -967.92\n",
      "Covariance Type:            nonrobust   LLR p-value:                4.677e-123\n",
      "========================================================================================\n",
      "                           coef    std err          z      P>|z|      [0.025      0.975]\n",
      "----------------------------------------------------------------------------------------\n",
      "const                    3.2801      0.142     23.093      0.000       3.002       3.559\n",
      "LOGPRICERATIO           -6.1109      0.386    -15.832      0.000      -6.867      -5.354\n",
      "DISPLHEINZ               0.5459      0.243      2.249      0.025       0.070       1.022\n",
      "FEATHEINZ                0.5760      0.315      1.826      0.068      -0.042       1.194\n",
      "DISPLHUNTS              -0.6685      0.226     -2.955      0.003      -1.112      -0.225\n",
      "FEATHUNTS               -1.0935      0.286     -3.823      0.000      -1.654      -0.533\n",
      "DISPLHEINZ_FEATHEINZ    -0.6821      0.584     -1.169      0.243      -1.826       0.462\n",
      "========================================================================================\n"
     ]
    }
   ],
   "source": [
    "# Import necessary libraries\n",
    "import pandas as pd\n",
    "import numpy as np\n",
    "import statsmodels.api as sm\n",
    "\n",
    "\n",
    "# Rename columns to remove any potential inconsistencies with capitalization\n",
    "data.columns = data.columns.str.upper()\n",
    "\n",
    "# Create LogPriceRatio variable\n",
    "data['LOGPRICERATIO'] = np.log(data['PRICEHEINZ'] / data['PRICEHUNTS'])\n",
    "\n",
    "# Define the dependent variable (probability of purchasing Heinz)\n",
    "data['HEINZ'] = data['HEINZ'].astype(int)  # Ensure 'HEINZ' is in integer format (1 for Heinz, 0 for Hunts)\n",
    "\n",
    "# Add interaction terms for displays and features\n",
    "data['DISPLHEINZ_FEATHEINZ'] = data['DISPLHEINZ'] * data['FEATHEINZ']\n",
    "data['DISPLHUNTS_FEATHUNTS'] = data['DISPLHUNTS'] * data['FEATHUNTS']\n",
    "\n",
    "# Define the independent variables\n",
    "X = data[['LOGPRICERATIO', 'DISPLHEINZ', 'FEATHEINZ', 'DISPLHUNTS', 'FEATHUNTS', 'DISPLHEINZ_FEATHEINZ']]\n",
    "\n",
    "# Add a constant for the intercept\n",
    "X = sm.add_constant(X)\n",
    "\n",
    "# Fit the logit model\n",
    "y = data['HEINZ']\n",
    "logit_model = sm.Logit(y, X)\n",
    "result = logit_model.fit()\n",
    "\n",
    "# Print the model summary\n",
    "print(result.summary())\n"
   ]
  },
  {
   "cell_type": "markdown",
   "id": "7460e0f2",
   "metadata": {},
   "source": [
    "## Q2"
   ]
  },
  {
   "cell_type": "code",
   "execution_count": 5,
   "id": "7e7bdaf3",
   "metadata": {},
   "outputs": [
    {
     "name": "stdout",
     "output_type": "stream",
     "text": [
      "Probability of purchasing Heinz at LogPriceRatio 0.5: 0.1769\n",
      "Probability of purchasing Heinz at LogPriceRatio 0.55: 0.1367\n",
      "Change in probability: -0.0402\n"
     ]
    }
   ],
   "source": [
    "import numpy as np\n",
    "\n",
    "# Coefficients from the model output\n",
    "const = 3.2801\n",
    "coef_LogPriceRatio = -6.1109\n",
    "coef_DisplHeinz = 0.5459\n",
    "coef_FeatHeinz = 0.5760\n",
    "coef_DisplHunts = -0.6685\n",
    "coef_FeatHunts = -1.0935\n",
    "coef_DisplHeinz_FeatHeinz = -0.6821\n",
    "\n",
    "# Define the logit probability function\n",
    "def logit_probability(logpriceratio, displheinz, featheinz, displhunts, feathunts):\n",
    "    # Calculate the linear combination (log-odds)\n",
    "    log_odds = (const + \n",
    "                coef_LogPriceRatio * logpriceratio + \n",
    "                coef_DisplHeinz * displheinz + \n",
    "                coef_FeatHeinz * featheinz + \n",
    "                coef_DisplHunts * displhunts + \n",
    "                coef_FeatHunts * feathunts + \n",
    "                coef_DisplHeinz_FeatHeinz * (displheinz * featheinz))\n",
    "    \n",
    "    # Convert log-odds to probability\n",
    "    probability = np.exp(log_odds) / (1 + np.exp(log_odds))\n",
    "    return probability\n",
    "\n",
    "# Scenario 1: LogPriceRatio = 0.5\n",
    "prob_1 = logit_probability(logpriceratio=0.5, displheinz=0, featheinz=0, displhunts=1, feathunts=1)\n",
    "\n",
    "# Scenario 2: LogPriceRatio = 0.55\n",
    "prob_2 = logit_probability(logpriceratio=0.55, displheinz=0, featheinz=0, displhunts=1, feathunts=1)\n",
    "\n",
    "# Calculate the change in probability\n",
    "change_in_probability = prob_2 - prob_1\n",
    "\n",
    "# Display the results\n",
    "print(f\"Probability of purchasing Heinz at LogPriceRatio 0.5: {prob_1:.4f}\")\n",
    "print(f\"Probability of purchasing Heinz at LogPriceRatio 0.55: {prob_2:.4f}\")\n",
    "print(f\"Change in probability: {change_in_probability:.4f}\")\n"
   ]
  },
  {
   "cell_type": "markdown",
   "id": "b66e5501",
   "metadata": {},
   "source": [
    "## Q3"
   ]
  },
  {
   "cell_type": "code",
   "execution_count": 6,
   "id": "21d69805",
   "metadata": {},
   "outputs": [
    {
     "name": "stdout",
     "output_type": "stream",
     "text": [
      "Optimal Threshold: 0.89\n",
      "Minimum Cost at Optimal Threshold: $222.00\n"
     ]
    }
   ],
   "source": [
    "import numpy as np\n",
    "import pandas as pd\n",
    "from sklearn.metrics import confusion_matrix\n",
    "import statsmodels.api as sm\n",
    "\n",
    "# Define the independent variables for prediction\n",
    "X = data[['LOGPRICERATIO', 'DISPLHEINZ', 'FEATHEINZ', 'DISPLHUNTS', 'FEATHUNTS', 'DISPLHEINZ_FEATHEINZ']]\n",
    "X = sm.add_constant(X)\n",
    "\n",
    "# Generate predicted probabilities from the model\n",
    "data['predicted_prob_heinz'] = result.predict(X)\n",
    "\n",
    "# Costs for misclassifications\n",
    "cost_false_positive = 1.5  # Cost of sending coupon to a Heinz buyer\n",
    "cost_false_negative = 0.25  # Cost of not sending coupon to a Hunts buyer\n",
    "\n",
    "# Define a range of thresholds to test\n",
    "thresholds = np.arange(0, 1.01, 0.01)\n",
    "costs = []\n",
    "\n",
    "# Iterate over each threshold\n",
    "for threshold in thresholds:\n",
    "    # Predict based on the threshold\n",
    "    data['predicted_class'] = np.where(data['predicted_prob_heinz'] >= threshold, 1, 0)  # 1 = Heinz, 0 = Hunts\n",
    "    \n",
    "    # Calculate confusion matrix components\n",
    "    tn, fp, fn, tp = confusion_matrix(data['HEINZ'], data['predicted_class']).ravel()\n",
    "    \n",
    "    # Calculate misclassification costs\n",
    "    total_cost = (fp * cost_false_positive) + (fn * cost_false_negative)\n",
    "    costs.append(total_cost)\n",
    "\n",
    "# Find the optimal threshold with the minimum cost\n",
    "optimal_threshold = thresholds[np.argmin(costs)]\n",
    "min_cost = min(costs)\n",
    "\n",
    "print(f\"Optimal Threshold: {optimal_threshold:.2f}\")\n",
    "print(f\"Minimum Cost at Optimal Threshold: ${min_cost:.2f}\")\n"
   ]
  },
  {
   "cell_type": "code",
   "execution_count": null,
   "id": "9e772b38",
   "metadata": {},
   "outputs": [],
   "source": []
  }
 ],
 "metadata": {
  "kernelspec": {
   "display_name": "Python 3",
   "language": "python",
   "name": "python3"
  },
  "language_info": {
   "codemirror_mode": {
    "name": "ipython",
    "version": 3
   },
   "file_extension": ".py",
   "mimetype": "text/x-python",
   "name": "python",
   "nbconvert_exporter": "python",
   "pygments_lexer": "ipython3",
   "version": "3.8.8"
  }
 },
 "nbformat": 4,
 "nbformat_minor": 5
}
